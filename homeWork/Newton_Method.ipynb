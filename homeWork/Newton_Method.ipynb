{
 "cells": [
  {
   "cell_type": "code",
   "execution_count": 151,
   "metadata": {},
   "outputs": [],
   "source": [
    "import numpy as np"
   ]
  },
  {
   "cell_type": "markdown",
   "metadata": {},
   "source": [
    "I. Нахождение корней методом простой итерации\n",
    "\n",
    "№12.4(и)\n",
    "\n",
    "$f(x) = x^2 - e^x/5 = 0$\n",
    "\n",
    "Вычислим подходящий метод для МПИ:\n",
    "\n",
    "$1.  x_{k+1} = \\pm \\sqrt{\\frac{e^x_k}{5}}$\n",
    "\n",
    "$2.  x_{k+1} = \\ln ({5x_k^2})$\n"
   ]
  },
  {
   "cell_type": "code",
   "execution_count": 152,
   "metadata": {},
   "outputs": [
    {
     "data": {
      "image/png": "[encoded data removed]",
      "text/plain": [
       "<IPython.core.display.Image object>"
      ]
     },
     "execution_count": 152,
     "metadata": {},
     "output_type": "execute_result"
    }
   ],
   "source": [
    "from IPython.display import Image\n",
    "Image('./pictures/Newton_Method_image1.png')"
   ]
  },
  {
   "cell_type": "markdown",
   "metadata": {},
   "source": [
    "Исходя из графика, возьмём отрезок локализации, равный [0.5; 1].\n",
    "Вычислим первые производные для полученных ф-ций.\n",
    "\n",
    "$\\varphi_1^{'} = \\pm \\frac{1}{2} \\sqrt{\\frac{e^x}{5}}$\n",
    "\n",
    "$\\varphi_2^{'} = \\frac{2}{x}$\n",
    "\n",
    "$|\\varphi_1^{'}| = \\frac{1}{2} \\sqrt{\\frac{e^x}{5}}$\n",
    "\n",
    "$|\\varphi_2^{'}| = \\frac{2}{|x|}$\n"
   ]
  },
  {
   "cell_type": "markdown",
   "metadata": {},
   "source": [
    "Рассмотрим $|\\varphi_2^{'}|$ на области локализации и проверим условие $|\\varphi_2^{'}| \\leq q < 1$. Обнаружим, что $\\exists$ такая точка x* = 0.5, что условие не будет выполняться: $|\\varphi_2^{'}| = 4$. Значит, функция $|\\varphi_2^{'}|$ не подходит.\n",
    "\n",
    "Для функции $|\\varphi_1^{'}|$ условие будет выполнено. Значит, для МПИ подходит $|\\varphi_1^{'}| = \\frac{1}{2} \\sqrt{\\frac{e^x}{5}}$.\n",
    "\n",
    "Тогда будем искать решение для $\\varphi = \\pm \\sqrt{\\frac{e^x_k}{5}}$."
   ]
  },
  {
   "cell_type": "code",
   "execution_count": 153,
   "metadata": {},
   "outputs": [
    {
     "name": "stdout",
     "output_type": "stream",
     "text": [
      "x_1 =  0.6052671211626723\n",
      "x_2 = -0.3781293755942026\n"
     ]
    }
   ],
   "source": [
    "precision = 1e-9\n",
    "def phi_1(x):\n",
    "    return (np.exp(x) / 5) ** 0.5\n",
    "def phi_2(x):\n",
    "    return -phi_1(x)\n",
    "\n",
    "def sim(foo, x_0, precision):\n",
    "  x = x_0\n",
    "  step = 0\n",
    "  while(1):\n",
    "    cur = x\n",
    "    x = foo(x)\n",
    "    if step > 1:\n",
    "      q = (x - cur) / (cur - prev)\n",
    "      if (x - cur) <= (precision * (1 - q)):\n",
    "        break\n",
    "    prev = cur\n",
    "    step += 1\n",
    "  return x\n",
    "\n",
    "x_1 = sim(phi_1, 0.5, precision)\n",
    "x_2 = sim(phi_2, 0.5, precision)\n",
    "print(\"x_1 = \", x_1)\n",
    "print(\"x_2 =\", x_2)\n"
   ]
  },
  {
   "cell_type": "markdown",
   "metadata": {},
   "source": [
    "II. Нахождение корней методом Ньютона.\n",
    "\n",
    "№12.7(г)\n",
    "\n",
    "$\\sin{x} - y = 1.32$\n",
    "\n",
    "$\\cos{y} - x = -0.85$\n",
    "\n",
    "Можем привести эти уравнения к виду\n",
    "\n",
    "$\\sin{x} - y - 1.32 = 0$\n",
    "\n",
    "$\\cos{y} - x + 0.85 = 0$\n",
    "\n",
    "Найдём матрицу Якоби для данной системы. Пусть $f_1 = \\sin{x} - y - 1.32$, тогда $f_2 = \\cos{y} - x + 0.85$.\n",
    "\n",
    "Тогда \n",
    "\n",
    "$\\frac{\\partial f_1}{\\partial x} = \\cos{x}$\n",
    "\n",
    "$\\frac{\\partial f_1}{\\partial y} = -1$\n",
    "\n",
    "$\\frac{\\partial f_2}{\\partial x} = -1$\n",
    "\n",
    "$\\frac{\\partial f_2}{\\partial y} = -\\sin{y}$\n",
    "\n",
    "\n",
    "$$\n",
    "J = \\left(\\begin{array}{cc} \n",
    "\\cos{x} & -1\\\\\n",
    "-1 & -\\sin{y}\n",
    "\\end{array}\\right)\n",
    "$$ \n",
    "\n",
    "Вычислим $det J = 1 - \\cos{x}\\sin{y}$. Найдём обратную матрицу Якоби.\n",
    "\n",
    "$$\n",
    "J^{-1} = \\frac{1}{1 - \\cos{x}\\sin{y}} \\left(\\begin{array}{cc} \n",
    "\\sin{y} & -1\\\\\n",
    "-1 & -\\cos{x}\n",
    "\\end{array}\\right)\n",
    "$$ "
   ]
  },
  {
   "cell_type": "code",
   "execution_count": 154,
   "metadata": {},
   "outputs": [],
   "source": [
    "precision = 1e-5\n",
    "\n",
    "def transpose(vec):\n",
    "  return vec[:, 0]\n",
    "\n",
    "def norm(x):\n",
    "  norm = 0\n",
    "  for i in range(x.shape[0]):\n",
    "    val = np.abs(x[i])\n",
    "    if val > norm:\n",
    "      norm = val\n",
    "  return norm\n",
    "\n",
    "def reverse_Jacobi(col):\n",
    "    x = col[0]\n",
    "    y = col[1]\n",
    "    matr = np.array([[0, 0], [0, 0]])\n",
    "    det = 1 - np.cos(x) * np.sin(y)\n",
    "    matr[0, 0] = np.sin(y)\n",
    "    matr[0, 1] = -1\n",
    "    matr[1, 0] = -1 \n",
    "    matr[1, 1] = -np.cos(x)\n",
    "    return matr\n",
    "\n",
    "def foo_x(col):\n",
    "    x = col[0]\n",
    "    y = col[1]\n",
    "    return np.sin(x) - y - 1.32\n",
    "\n",
    "def foo_y(col):\n",
    "    x = col[0]\n",
    "    y = col[1]\n",
    "    return np.cos(y) - x + 0.85\n",
    "\n",
    "def foo(col):\n",
    "    return np.array([[foo_x(col)], [foo_y(col)]])\n",
    "\n",
    "def newton(x_0, reverse_Jacobi, foo, precision):\n",
    "    x = x_0\n",
    "    while(1):\n",
    "        cur = x\n",
    "        x = x - np.matmul(reverse_Jacobi(x), foo(transpose(x)))\n",
    "        if(norm(transpose(x) - transpose(cur)) < precision):\n",
    "            break\n",
    "    return x"
   ]
  },
  {
   "cell_type": "code",
   "execution_count": 155,
   "metadata": {},
   "outputs": [
    {
     "name": "stdout",
     "output_type": "stream",
     "text": [
      "The solution is:\n",
      "[[ 1.79133722]\n",
      " [-0.3442208 ]]\n"
     ]
    }
   ],
   "source": [
    "x_0 = np.array([[1], [1]])\n",
    "x = newton(x_0, reverse_Jacobi, foo, precision)\n",
    "print(\"The solution is:\")\n",
    "print(x)"
   ]
  }
 ],
 "metadata": {
  "kernelspec": {
   "display_name": "Python 3.8.10 64-bit",
   "language": "python",
   "name": "python3"
  },
  "language_info": {
   "codemirror_mode": {
    "name": "ipython",
    "version": 3
   },
   "file_extension": ".py",
   "mimetype": "text/x-python",
   "name": "python",
   "nbconvert_exporter": "python",
   "pygments_lexer": "ipython3",
   "version": "3.8.10"
  },
  "orig_nbformat": 4,
  "vscode": {
   "interpreter": {
    "hash": "916dbcbb3f70747c44a77c7bcd40155683ae19c65e1c03b4aa3499c5328201f1"
   }
  }
 },
 "nbformat": 4,
 "nbformat_minor": 2
}
