{
 "cells": [
  {
   "cell_type": "markdown",
   "metadata": {},
   "source": [
    "VI.9.32\n",
    "\n",
    "| Год         | 1910         | 1920        | 1930        | 1940        | 1950        |\n",
    "| -------     | ------------ | ----------- | ----------- | ----------- | ----------- |\n",
    "| Население   | 092 228 496  | 106 021 537 | 123 202 624 | 132 164 569 | 151 325 798 |\n",
    "\n",
    "| Год         | 1960         | 1970        | 1980        | 1990        | 2000        |\n",
    "| -------     | ------------ | ----------- | ----------- | ----------- | ----------- |\n",
    "| Население   | 179 323 175  | 203 211 926 | 226 545 805 | 248 709 873 | 281 421 906 |\n"
   ]
  },
  {
   "cell_type": "code",
   "execution_count": 370,
   "metadata": {},
   "outputs": [],
   "source": [
    "import numpy as np\n",
    "\n",
    "years = np.array([1910, 1920, 1930, 1940, 1950, 1960, 1970, 1980, 1990, 2000])\n",
    "population = np.array([92228496, 106021537, 123202624, 132164569, 151325798, 179323175, 203211926, 226545805, 248709873, 281421906])"
   ]
  },
  {
   "cell_type": "markdown",
   "metadata": {},
   "source": [
    "а) Построить интерполянт в форме Ньютона. Вычислить экстраполированное значение численности населения в 2010 году и сравнить с точным значением 308 745 538."
   ]
  },
  {
   "cell_type": "markdown",
   "metadata": {},
   "source": [
    "Функция для вычисления разделённой разности:"
   ]
  },
  {
   "cell_type": "code",
   "execution_count": 371,
   "metadata": {},
   "outputs": [],
   "source": [
    "def sep_diff(years, population):\n",
    "  sz = np.shape(years)[0]\n",
    "  sp_tbl = np.zeros([sz, sz])\n",
    "  for i in range (0, sz):\n",
    "    sp_tbl[i, 0] = population[i]\n",
    "  for j in range (1, sz):\n",
    "    for i in range (1, sz):\n",
    "      sp_tbl[i, j] = (sp_tbl[i, j - 1] - sp_tbl[i-1, j-1]) / (years[i] - years[i - j])\n",
    "  \n",
    "  res = np.zeros([sz])\n",
    "  for i in range(0, sz):\n",
    "    res[i] = sp_tbl[i, i]\n",
    "  \n",
    "  return res"
   ]
  },
  {
   "cell_type": "markdown",
   "metadata": {},
   "source": [
    "Функция для вычисления полинома Ньютона. Общий вид формулы выглядит так:\n",
    "\n",
    "$$N_n(x) = b_0 + b_1\\cdot(x-x_0) + b_2\\cdot(x-x_0)\\cdot(x-x_1) + ... + b_n\\cdot(x-x_0)\\cdot(x-x_1)\\cdot...\\cdot(x-x_n)$$"
   ]
  },
  {
   "cell_type": "code",
   "execution_count": 372,
   "metadata": {},
   "outputs": [],
   "source": [
    "def poly_Newton(years, population, x):\n",
    "  sp_tbl = sep_diff(years, population)\n",
    "  sz = np.shape(sp_tbl)[0]\n",
    "  aux_poly_val = 1\n",
    "  res = sp_tbl[0]\n",
    "  for i in range (sz - 1):\n",
    "    aux_poly_val = aux_poly_val * (x - years[i])\n",
    "    res = res + sp_tbl[i + 1] * aux_poly_val\n",
    "\n",
    "  return res"
   ]
  },
  {
   "cell_type": "markdown",
   "metadata": {},
   "source": [
    "Вычисление значения в 2010 году:"
   ]
  },
  {
   "cell_type": "code",
   "execution_count": 373,
   "metadata": {},
   "outputs": [
    {
     "name": "stdout",
     "output_type": "stream",
     "text": [
      "Полученное значение полинома Ньютона: 827906509\n",
      "Ожидаемое значение полинома Ньютона:  308745538\n",
      "Погрешность вычисления: 168 %\n"
     ]
    }
   ],
   "source": [
    "res = poly_Newton(years, population, 2010)\n",
    "expected_res = 308745538\n",
    "error = int(np.abs(res / expected_res - 1) * 100)\n",
    "\n",
    "print(\"Полученное значение полинома Ньютона:\", int(res))\n",
    "print(\"Ожидаемое значение полинома Ньютона: \", expected_res)\n",
    "print(\"Погрешность вычисления:\", error, \"%\")"
   ]
  },
  {
   "cell_type": "markdown",
   "metadata": {},
   "source": [
    "б) Построить сплайн-аппроксимацию, экстраполировать данные на 2010 год."
   ]
  },
  {
   "cell_type": "markdown",
   "metadata": {},
   "source": [
    "Используем сплайн:\n",
    "\n",
    "$$S_k = a_k + b_k (x-x_k) + \\frac{c_k}{2} (x-x_k)^2 + \\frac{d_k}{6} (x-x_k)^3$$\n",
    "\n",
    "Также поставим дополнительные условия:\n",
    "\n",
    "$$f''(1910) = 0 = f''(2000)$$"
   ]
  },
  {
   "cell_type": "code",
   "execution_count": 374,
   "metadata": {},
   "outputs": [],
   "source": [
    "import bisect\n",
    "\n",
    "def calc_diffs(x):\n",
    "  sz = len(x) - 1\n",
    "  res = np.zeros(sz)\n",
    "  for i in range (sz):\n",
    "    res[i] = x[i+1] - x[i]\n",
    "\n",
    "  return res\n",
    "\n",
    "def tridiag_init(n, h):\n",
    "  A = np.zeros(n - 1)\n",
    "  C = np.zeros(n - 1)\n",
    "  for i in range (n - 2):\n",
    "    A[i] = h[i] / (h[i] + h[i + 1])\n",
    "    C[i + 1] = h[i] / (h[i] + h[i + 1])\n",
    "\n",
    "  B = np.zeros(n)\n",
    "  for i in range (n):\n",
    "    B[i] = 2\n",
    "  \n",
    "  return A, B, C\n",
    "\n",
    "def target_init(n, h, y):\n",
    "  res_arr = np.zeros(n)\n",
    "  for i in range (1, n-1):\n",
    "    res_arr[i] = 6 * ((y[i + 1] - y[i]) / h[i] - (y[i] - y[i - 1]) / h[i - 1]) / (h[i] + h[i-1])\n",
    "\n",
    "  return res_arr\n",
    "\n",
    "def calc_tridiag(A, B, C, D):\n",
    "  c_p = np.append(C, 0)\n",
    "  d_p = np.zeros(np.shape(B)[0])\n",
    "  res = np.zeros(np.shape(B)[0])\n",
    "  for i in range(0, np.shape(B)[0]):\n",
    "    if i == 0:\n",
    "      c_p[i] = C[i] / B[i]\n",
    "      d_p[i] = D[i] / B[i]\n",
    "    else:\n",
    "      c_p[i] = c_p[i] / (B[i] - c_p[i - 1] * A[i - 1])\n",
    "      d_p[i] = (D[i] - d_p[i - 1] * A[i - 1]) / (B[i] - c_p[i - 1] * A[i - 1])\n",
    "\n",
    "  res[-1] = d_p[-1]\n",
    "  for i in range(np.shape(B)[0] - 2, -1, -1):\n",
    "      res[i] = d_p[i] - c_p[i] * res[i + 1]\n",
    "\n",
    "  return res\n",
    "\n",
    "def calc_spline(x, y, num):\n",
    "  n = len(x)\n",
    "  h = calc_diffs(x)\n",
    "  A, B, C = tridiag_init(n, h)\n",
    "  D = target_init(n, h, y)\n",
    "  tridiag_solved = calc_tridiag(A, B, C, D)\n",
    "\n",
    "  cfs = np.array([[(tridiag_solved[i+1]-tridiag_solved[i]) * h[i] * h[i] / 6, tridiag_solved[i] * h[i] * h[i] / 2, (y[i + 1] - y[i] - (tridiag_solved[i + 1]+  2 * tridiag_solved[i]) * h[i] * h[i] / 6), y[i]] for i in range(n - 1)])\n",
    "\n",
    "  idx = min(bisect.bisect(x, num)-1, n-2)\n",
    "  z = (num - x[idx]) / h[idx]\n",
    "  C = cfs[idx]\n",
    "  return (((C[0] * z) + C[1]) * z + C[2]) * z + C[3]\n",
    "\n"
   ]
  },
  {
   "cell_type": "markdown",
   "metadata": {},
   "source": [
    "Вычислим значение, которое мы получим с помощью сплайн-аппроксимации."
   ]
  },
  {
   "cell_type": "code",
   "execution_count": 375,
   "metadata": {},
   "outputs": [
    {
     "name": "stdout",
     "output_type": "stream",
     "text": [
      "Полученное значение сплайн-аппроксимации: 314133939\n",
      "Ожидаемое значение:  308745538\n",
      "Погрешность вычисления: 1 %\n"
     ]
    }
   ],
   "source": [
    "spline_res = calc_spline(years, population, 2010)\n",
    "expected_res = 308745538\n",
    "error = int(np.abs(spline_res / expected_res - 1) * 100)\n",
    "\n",
    "print(\"Полученное значение сплайн-аппроксимации:\", int(spline_res))\n",
    "print(\"Ожидаемое значение: \", expected_res)\n",
    "print(\"Погрешность вычисления:\", error, \"%\")"
   ]
  }
 ],
 "metadata": {
  "kernelspec": {
   "display_name": "Python 3.8.10 64-bit",
   "language": "python",
   "name": "python3"
  },
  "language_info": {
   "codemirror_mode": {
    "name": "ipython",
    "version": 3
   },
   "file_extension": ".py",
   "mimetype": "text/x-python",
   "name": "python",
   "nbconvert_exporter": "python",
   "pygments_lexer": "ipython3",
   "version": "3.8.10"
  },
  "orig_nbformat": 4,
  "vscode": {
   "interpreter": {
    "hash": "916dbcbb3f70747c44a77c7bcd40155683ae19c65e1c03b4aa3499c5328201f1"
   }
  }
 },
 "nbformat": 4,
 "nbformat_minor": 2
}
