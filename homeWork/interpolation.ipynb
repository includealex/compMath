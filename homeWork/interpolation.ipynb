{
 "cells": [
  {
   "cell_type": "markdown",
   "metadata": {},
   "source": [
    "VI.9.32\n",
    "\n",
    "| Год         | 1910         | 1920        | 1930        | 1940        | 1950        |\n",
    "| -------     | ------------ | ----------- | ----------- | ----------- | ----------- |\n",
    "| Население   | 092 228 496  | 106 021 537 | 123 202 624 | 132 164 569 | 151 325 798 |\n",
    "\n",
    "| Год         | 1960         | 1970        | 1980        | 1990        | 2000        |\n",
    "| -------     | ------------ | ----------- | ----------- | ----------- | ----------- |\n",
    "| Население   | 179 323 175  | 203 211 926 | 226 545 805 | 248 709 873 | 281 421 906 |\n"
   ]
  },
  {
   "cell_type": "code",
   "execution_count": 107,
   "metadata": {},
   "outputs": [],
   "source": [
    "import numpy as np\n",
    "\n",
    "years = np.array([1910, 1920, 1930, 1940, 1950, 1960, 1970, 1980, 1990, 2000])\n",
    "population = np.array([92228496, 106021537, 123202624, 132164569, 151325798, 179323175, 203211926, 226545805, 248709873, 281421906])"
   ]
  },
  {
   "cell_type": "markdown",
   "metadata": {},
   "source": [
    "а) Построить интерполянт в форме Ньютона. Вычислить экстраполированное значение численности населения в 2010 году и сравнить с точным значением 308 745 538."
   ]
  },
  {
   "cell_type": "markdown",
   "metadata": {},
   "source": [
    "Функция для вычисления разделённой разности:"
   ]
  },
  {
   "cell_type": "code",
   "execution_count": 108,
   "metadata": {},
   "outputs": [],
   "source": [
    "def sep_diff(years, population):\n",
    "  sz = np.shape(years)[0]\n",
    "  sp_tbl = np.zeros([sz, sz])\n",
    "  for i in range (0, sz):\n",
    "    sp_tbl[i, 0] = population[i]\n",
    "  for j in range (1, sz):\n",
    "    for i in range (1, sz):\n",
    "      sp_tbl[i, j] = (sp_tbl[i, j - 1] - sp_tbl[i-1, j-1]) / (years[i] - years[i - j])\n",
    "  \n",
    "  res = np.zeros([sz])\n",
    "  for i in range(0, sz):\n",
    "    res[i] = sp_tbl[i, i]\n",
    "  \n",
    "  return res"
   ]
  },
  {
   "cell_type": "markdown",
   "metadata": {},
   "source": [
    "Функция для вычисления полинома Ньютона. Общий вид формулы выглядит так:\n",
    "\n",
    "$$N_n(x) = b_0 + b_1\\cdot(x-x_0) + b_2\\cdot(x-x_0)\\cdot(x-x_1) + ... + b_n\\cdot(x-x_0)\\cdot(x-x_1)\\cdot...\\cdot(x-x_n)$$"
   ]
  },
  {
   "cell_type": "code",
   "execution_count": 109,
   "metadata": {},
   "outputs": [],
   "source": [
    "def poly_Newton(years, population, x):\n",
    "  sp_tbl = sep_diff(years, population)\n",
    "  sz = np.shape(sp_tbl)[0]\n",
    "  aux_poly_val = 1\n",
    "  res = sp_tbl[0]\n",
    "  for i in range (sz - 1):\n",
    "    aux_poly_val = aux_poly_val * (x - years[i])\n",
    "    res = res + sp_tbl[i + 1] * aux_poly_val\n",
    "\n",
    "  return res"
   ]
  },
  {
   "cell_type": "markdown",
   "metadata": {},
   "source": [
    "Вычисление значения в 2010 году:"
   ]
  },
  {
   "cell_type": "code",
   "execution_count": 110,
   "metadata": {},
   "outputs": [
    {
     "name": "stdout",
     "output_type": "stream",
     "text": [
      "Полученное значение полинома Ньютона: 827906509\n",
      "Ожидаемое значение полинома Ньютона:  308745538\n",
      "Погрешность вычисления: 168 %\n"
     ]
    }
   ],
   "source": [
    "res = poly_Newton(years, population, 2010)\n",
    "expected_res = 308745538\n",
    "error = int(np.abs(res / expected_res - 1) * 100)\n",
    "\n",
    "print(\"Полученное значение полинома Ньютона:\", int(res))\n",
    "print(\"Ожидаемое значение полинома Ньютона: \", expected_res)\n",
    "print(\"Погрешность вычисления:\", error, \"%\")"
   ]
  }
 ],
 "metadata": {
  "kernelspec": {
   "display_name": "Python 3.8.10 64-bit",
   "language": "python",
   "name": "python3"
  },
  "language_info": {
   "codemirror_mode": {
    "name": "ipython",
    "version": 3
   },
   "file_extension": ".py",
   "mimetype": "text/x-python",
   "name": "python",
   "nbconvert_exporter": "python",
   "pygments_lexer": "ipython3",
   "version": "3.8.10"
  },
  "orig_nbformat": 4,
  "vscode": {
   "interpreter": {
    "hash": "916dbcbb3f70747c44a77c7bcd40155683ae19c65e1c03b4aa3499c5328201f1"
   }
  }
 },
 "nbformat": 4,
 "nbformat_minor": 2
}
