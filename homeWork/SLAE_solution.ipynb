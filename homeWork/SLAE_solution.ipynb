{
 "cells": [
  {
   "cell_type": "code",
   "execution_count": 60,
   "metadata": {},
   "outputs": [],
   "source": [
    "from numpy.linalg import eig\n",
    "import numpy as np"
   ]
  },
  {
   "cell_type": "code",
   "execution_count": 61,
   "metadata": {},
   "outputs": [],
   "source": [
    "\n",
    "def minor_of_submatrix_quadratic(quadr_matrix,i):\n",
    "    M_ij = np.linalg.det(quadr_matrix[:i, :i])\n",
    "    return np.around(M_ij, decimals=4)\n",
    "\n",
    "def get_array_of_every_submatrix_quadratic(quadr_matrix):\n",
    "    arr = []\n",
    "    start_size = len(quadr_matrix)\n",
    "    for k in range (start_size):\n",
    "        sub_det = minor_of_submatrix_quadratic(quadr_matrix, start_size - k)\n",
    "        arr.append(sub_det)\n",
    "    return arr\n",
    "\n",
    "def has_zero_minors(quadr_matrix):\n",
    "    arr = get_array_of_every_submatrix_quadratic(quadr_matrix)\n",
    "    for k in range (len(arr)):\n",
    "        if arr[k] == 0: \n",
    "            return True\n",
    "    return False\n",
    "\n",
    "def get_array_of_eigenvalues_quadratic(quadr_matix):\n",
    "    w, v = eig(quadr_matix)\n",
    "    return w\n",
    "\n",
    "def find_max_eigenvalue_quadratic(quadr_matrix):\n",
    "    arr = get_array_of_eigenvalues_quadratic(quadr_matrix)\n",
    "    val = arr[0]\n",
    "    if (len(arr) == 0):\n",
    "        return val\n",
    "    for i in range (0, len(arr)):\n",
    "        var = arr[i]\n",
    "        if val < var:\n",
    "            val = var\n",
    "    return val\n",
    "\n",
    "def find_min_eigenvalue_quadratic(quadr_matrix):\n",
    "    arr = get_array_of_eigenvalues_quadratic(quadr_matrix)\n",
    "    val = arr[0]\n",
    "    if (len(arr) == 0):\n",
    "        return val\n",
    "    for i in range (0, len(arr)):\n",
    "        var = arr[i]\n",
    "        if val > var:\n",
    "            val = var\n",
    "    return val"
   ]
  },
  {
   "cell_type": "code",
   "execution_count": 62,
   "metadata": {},
   "outputs": [],
   "source": [
    "precision = 0.1e-4\n",
    "A_Test = np.array([[10, 1],\n",
    "                   [1, 10]])\n",
    "B_Test = np.array([[0]])\n",
    "\n",
    "assert has_zero_minors(A_Test) == False\n",
    "assert has_zero_minors(B_Test) == True"
   ]
  },
  {
   "cell_type": "code",
   "execution_count": 63,
   "metadata": {},
   "outputs": [],
   "source": [
    "\n",
    "C_Test = np.array([[1, 2],\n",
    "                   [2, 1]])\n",
    "\n",
    "assert np.abs(find_max_eigenvalue_quadratic(C_Test) - 3.0) < precision\n",
    "assert np.abs(find_min_eigenvalue_quadratic(C_Test) - (-1.0)) < precision"
   ]
  },
  {
   "cell_type": "markdown",
   "metadata": {},
   "source": [
    "1. Инициализация матрицы из пункта и)."
   ]
  },
  {
   "cell_type": "code",
   "execution_count": 64,
   "metadata": {},
   "outputs": [],
   "source": [
    "a = 100\n",
    "n = 100\n",
    "\n",
    "A = np.zeros((n, n))\n",
    "f = np.zeros((n, 1))\n",
    "\n",
    "# Initializing of matrices\n",
    "# b_ii = a\n",
    "# b_ij = i / j\n",
    "# f_i = i\n",
    "for i in range (0, n):\n",
    "    f[i] = i + 1\n",
    "    for j in range (0, n):\n",
    "        if i == j:\n",
    "            A[i][j] = a\n",
    "        elif j - i <= 1:\n",
    "            A[i][j] = (i + 1) / (j + 1)\n"
   ]
  },
  {
   "cell_type": "markdown",
   "metadata": {},
   "source": [
    "2. Метод Гаусса как метод LU-разложения. Используем, т.к. есть проверка на то, отличны ли главные миноры от 0."
   ]
  },
  {
   "cell_type": "code",
   "execution_count": 65,
   "metadata": {},
   "outputs": [
    {
     "name": "stdout",
     "output_type": "stream",
     "text": [
      "Transposed given matrix f:\n",
      " [[  1.   2.   3.   4.   5.   6.   7.   8.   9.  10.  11.  12.  13.  14.\n",
      "   15.  16.  17.  18.  19.  20.  21.  22.  23.  24.  25.  26.  27.  28.\n",
      "   29.  30.  31.  32.  33.  34.  35.  36.  37.  38.  39.  40.  41.  42.\n",
      "   43.  44.  45.  46.  47.  48.  49.  50.  51.  52.  53.  54.  55.  56.\n",
      "   57.  58.  59.  60.  61.  62.  63.  64.  65.  66.  67.  68.  69.  70.\n",
      "   71.  72.  73.  74.  75.  76.  77.  78.  79.  80.  81.  82.  83.  84.\n",
      "   85.  86.  87.  88.  89.  90.  91.  92.  93.  94.  95.  96.  97.  98.\n",
      "   99. 100.]]\n",
      "Transposed calculated matrix f:\n",
      " [[  1.   2.   3.   4.   5.   6.   7.   8.   9.  10.  11.  12.  13.  14.\n",
      "   15.  16.  17.  18.  19.  20.  21.  22.  23.  24.  25.  26.  27.  28.\n",
      "   29.  30.  31.  32.  33.  34.  35.  36.  37.  38.  39.  40.  41.  42.\n",
      "   43.  44.  45.  46.  47.  48.  49.  50.  51.  52.  53.  54.  55.  56.\n",
      "   57.  58.  59.  60.  61.  62.  63.  64.  65.  66.  67.  68.  69.  70.\n",
      "   71.  72.  73.  74.  75.  76.  77.  78.  79.  80.  81.  82.  83.  84.\n",
      "   85.  86.  87.  88.  89.  90.  91.  92.  93.  94.  95.  96.  97.  98.\n",
      "   99. 100.]]\n"
     ]
    }
   ],
   "source": [
    "\n",
    "def calculate_y(l, f):\n",
    "    y = np.zeros((len(l), 1))\n",
    "    y[0] = f[0] / l[0][0]\n",
    "    for i in range(1, len(l)):\n",
    "        cum_sum = 0\n",
    "        for j in range(0, i):\n",
    "            cum_sum += l[i][j] * y[j]\n",
    "        y[i] = (f[i] - cum_sum) / l[i][i]\n",
    "    return y\n",
    "\n",
    "def calculate_x(u, y):\n",
    "    x = np.zeros((len(u), 1))\n",
    "    x[len(u) - 1] = y[len(u) - 1] / u[len(u) - 1][len(u) - 1]\n",
    "    for i in range(len(u) - 1, -1, -1):\n",
    "        cum_sum = 0\n",
    "        for j in range(i + 1, len(u)):\n",
    "            cum_sum += u[i][j] * x[j]\n",
    "        x[i] = (y[i] - cum_sum) / u[i][i]\n",
    "    return x\n",
    "\n",
    "def tmp_sum(l, u, i, j, tp):\n",
    "    ret = 0\n",
    "    if tp == 1:\n",
    "        for k in range(0, i):\n",
    "            ret += l[i][k] * u[k][j]\n",
    "    else:\n",
    "        for k in range(0, j):\n",
    "            ret += l[i][k] * u[k][j]\n",
    "    return ret\n",
    "\n",
    "def my_lu(A):\n",
    "    l = np.zeros((len(A), len(A)))\n",
    "    u = np.zeros((len(A), len(A)))\n",
    "    for i in range(0, len(A)):\n",
    "        l[i][i] = 1\n",
    "    for i in range(0, len(A)):\n",
    "        for j in range(0, len(A)):\n",
    "            if i <= j:\n",
    "                u[i][j] = A[i][j] - tmp_sum(l, u, i, j, 1)\n",
    "            else:\n",
    "                l[i][j] = (A[i][j] - tmp_sum(l, u, i, j, 2)) / u[j][j]\n",
    "    return l, u\n",
    "\n",
    "def get_lu_solution(matrix):\n",
    "    assert has_zero_minors(matrix) == False\n",
    "    l, u = my_lu(matrix)\n",
    "    y = calculate_y(l, f)\n",
    "    x = calculate_x(u, y)\n",
    "    return x\n",
    "\n",
    "if has_zero_minors(A) == False:\n",
    "    val = get_lu_solution(A)\n",
    "    print(\"Transposed given matrix f:\\n\", np.transpose(f))\n",
    "    print(\"Transposed calculated matrix f:\\n\", np.transpose(np.matmul(A, val)))"
   ]
  }
 ],
 "metadata": {
  "kernelspec": {
   "display_name": "Python 3.8.10 64-bit",
   "language": "python",
   "name": "python3"
  },
  "language_info": {
   "codemirror_mode": {
    "name": "ipython",
    "version": 3
   },
   "file_extension": ".py",
   "mimetype": "text/x-python",
   "name": "python",
   "nbconvert_exporter": "python",
   "pygments_lexer": "ipython3",
   "version": "3.8.10"
  },
  "orig_nbformat": 4,
  "vscode": {
   "interpreter": {
    "hash": "916dbcbb3f70747c44a77c7bcd40155683ae19c65e1c03b4aa3499c5328201f1"
   }
  }
 },
 "nbformat": 4,
 "nbformat_minor": 2
}
