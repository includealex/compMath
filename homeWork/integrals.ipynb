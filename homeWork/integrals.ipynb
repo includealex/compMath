{
 "cells": [
  {
   "attachments": {},
   "cell_type": "markdown",
   "metadata": {},
   "source": [
    "VII.9.5\n",
    "\n",
    "д)\n",
    "| x      | 0.000         | 0.125        | 0.250        | 0.375        | 0.500     |\n",
    "| ----   | ------------ | ----------- | ----------- | ----------- | -------- |\n",
    "| f(x)   | 0.000000     | 0.124670    | 0.247234    | 0.364902    | 0.473112 |\n",
    "\n",
    "| x      | 0.625         | 0.750        | 0.875        | 1.000        |\n",
    "| ----   | ------------ | ----------- | ----------- | ----------- |\n",
    "| f(x)   | 0.563209     | 0.616193    | 0.579699    | 0.000000    |\n"
   ]
  },
  {
   "cell_type": "code",
   "execution_count": 4,
   "metadata": {},
   "outputs": [],
   "source": [
    "import numpy as np\n",
    "\n",
    "x   = np.array([0.0, 0.125, 0.250, 0.375, 0.5, 0.625, 0.750, 0.875, 1.0])\n",
    "foo = np.array([0.0, 0.124670, 0.247234, 0.364902, 0.473112, 0.563209, 0.616193, 0.579699, 0.0])\n",
    "precision = 1e-6"
   ]
  },
  {
   "cell_type": "code",
   "execution_count": 5,
   "metadata": {},
   "outputs": [],
   "source": [
    "def expected_foo(x):\n",
    "  if x == 0:\n",
    "    return 0\n",
    "  return np.tan(x) * np.sqrt(1 - x ** 2)"
   ]
  },
  {
   "attachments": {},
   "cell_type": "markdown",
   "metadata": {},
   "source": [
    "Распишем метод трапеции:\n",
    "$$\\int_{x_0}^{x_n} f(x)dx \\approx h \\cdot (\\frac{f_0 + f_n}{2} + \\sum_{i=0}^{n-1} f_i)$$\n",
    "В данной задаче, $x_0 = 0$, $x_n = 1$."
   ]
  },
  {
   "attachments": {},
   "cell_type": "markdown",
   "metadata": {},
   "source": [
    "В нашем случае,\n",
    "$$f(x) = \\tan{x} \\cdot \\sqrt{1 - x^2}$$"
   ]
  },
  {
   "cell_type": "code",
   "execution_count": 9,
   "metadata": {},
   "outputs": [
    {
     "name": "stdout",
     "output_type": "stream",
     "text": [
      "Используя метод трапеций, получим I =  0.37112737500000004\n"
     ]
    }
   ],
   "source": [
    "def trapez(x, foo):\n",
    "    h = 1 / 8\n",
    "    sum = 0\n",
    "    left = foo[0]\n",
    "    right = foo[-1]\n",
    "    for i in range(len(foo)):\n",
    "        el = foo[i]\n",
    "        if (el == left or foo[i] == right):\n",
    "            el = el / 2\n",
    "        sum += el\n",
    "    return sum * h\n",
    "\n",
    "print(\"Используя метод трапеций, получим I = \", trapez(x, foo))"
   ]
  },
  {
   "attachments": {},
   "cell_type": "markdown",
   "metadata": {},
   "source": [
    "Распишем метод Симпсона:\n",
    "\n",
    "$$\\int_{x_0}^{x_n} f(x) dx \\approx \\frac{h}{3} [f(x_0) + 2 \\cdot \\sum_{j=1}^{N/2 - 1} f(x_{2j}) + 4 \\cdot \\sum_{j=1}^{N/2} f(x_{2j-1}) + f(x_N)]$$"
   ]
  },
  {
   "cell_type": "code",
   "execution_count": 10,
   "metadata": {},
   "outputs": [
    {
     "name": "stdout",
     "output_type": "stream",
     "text": [
      "Используя метод Cимпсона, получим I =  0.38345825000000006\n"
     ]
    }
   ],
   "source": [
    "def Simpson(x, foo):\n",
    "  h = 1/8\n",
    "  sum = 0\n",
    "  r = len(foo) - 1 \n",
    "  for i in range(len(foo)):\n",
    "    el = foo[i]\n",
    "    if (i != 0 and i != r):\n",
    "      if(i % 2 == 0):\n",
    "        el *= 2\n",
    "      else:\n",
    "        el *= 4\n",
    "    sum += el\n",
    "  return sum * h / 3\n",
    "\n",
    "print(\"Используя метод Cимпсона, получим I = \", Simpson(x, foo))"
   ]
  }
 ],
 "metadata": {
  "kernelspec": {
   "display_name": "Python 3",
   "language": "python",
   "name": "python3"
  },
  "language_info": {
   "codemirror_mode": {
    "name": "ipython",
    "version": 3
   },
   "file_extension": ".py",
   "mimetype": "text/x-python",
   "name": "python",
   "nbconvert_exporter": "python",
   "pygments_lexer": "ipython3",
   "version": "3.8.10"
  },
  "orig_nbformat": 4,
  "vscode": {
   "interpreter": {
    "hash": "916dbcbb3f70747c44a77c7bcd40155683ae19c65e1c03b4aa3499c5328201f1"
   }
  }
 },
 "nbformat": 4,
 "nbformat_minor": 2
}
